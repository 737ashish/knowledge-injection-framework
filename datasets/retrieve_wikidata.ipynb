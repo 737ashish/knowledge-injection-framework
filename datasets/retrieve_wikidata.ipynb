{
 "cells": [
  {
   "cell_type": "code",
   "execution_count": 1,
   "metadata": {},
   "outputs": [],
   "source": [
    "# Retrieve additional data from wikidata such as wikidata entity labels, entity descriptions and aliases\n",
    "# for all enities and relations in used datasets"
   ]
  },
  {
   "cell_type": "code",
   "execution_count": 2,
   "metadata": {},
   "outputs": [],
   "source": [
    "import json\n",
    "import pandas as pd\n",
    "import sys\n",
    "sys.path.append(\"../utils\")\n",
    "from tqdm import tqdm\n",
    "from wikidata import get_wikidata_entity_label, get_wikidata_entity_description, get_wikidata_entity_aliases"
   ]
  },
  {
   "cell_type": "code",
   "execution_count": 3,
   "metadata": {},
   "outputs": [
    {
     "name": "stdout",
     "output_type": "stream",
     "text": [
      "Num of head entities: 56000\n",
      "Num of tail entities: 56000\n",
      "Num of unique head entities: 50340\n",
      "Num of unique tail entities: 27160\n",
      "Num of unique entities: 72954\n",
      "Num of unique relations: 80\n"
     ]
    }
   ],
   "source": [
    "# FewRel\n",
    "with open(\"FewRel/raw/train_wiki.json\") as f:\n",
    "    train_data = json.load(f)\n",
    "\n",
    "with open(\"FewRel/raw/val_wiki.json\") as f:\n",
    "    val_data = json.load(f)\n",
    "    \n",
    "with open(\"FewRel/raw/pid2name.json\") as f:\n",
    "    pid_dict = json.load(f)\n",
    "\n",
    "# concatenate dicts\n",
    "data_fr = train_data | val_data\n",
    "\n",
    "head_entities_fr, tail_entities_fr, relations_fr = [], [], []\n",
    "for pid in data_fr:\n",
    "    for x in data_fr[pid]:\n",
    "        head_entities_fr.append(x[\"h\"][1])\n",
    "        tail_entities_fr.append(x[\"t\"][1])\n",
    "        relations_fr.append(pid)\n",
    "\n",
    "entities_fr = set(head_entities_fr) | set(tail_entities_fr)\n",
    "relations_fr = set(relations_fr)\n",
    "print(f\"Num of head entities: {len(head_entities_fr)}\")\n",
    "print(f\"Num of tail entities: {len(tail_entities_fr)}\")\n",
    "print(f\"Num of unique head entities: {len(set(head_entities_fr))}\")\n",
    "print(f\"Num of unique tail entities: {len(set(tail_entities_fr))}\")\n",
    "print(f\"Num of unique entities: {len(entities_fr)}\")\n",
    "print(f\"Num of unique relations: {len(relations_fr)}\")"
   ]
  },
  {
   "cell_type": "code",
   "execution_count": 4,
   "metadata": {},
   "outputs": [
    {
     "name": "stdout",
     "output_type": "stream",
     "text": [
      "Num of tail entities: 21919\n",
      "Num of new tail entities: 21919\n",
      "Num of unique tail entities: 863\n",
      "Num of unique new tail entities: 781\n",
      "Num of unique relations: 34\n"
     ]
    }
   ],
   "source": [
    "# Counterfact\n",
    "with open(\"Counterfact/raw/counterfact.json\", \"r\") as file:\n",
    "    data_cf = json.load(file)\n",
    "    \n",
    "target_true, target_new, relations_cf = [], [], []\n",
    "for x in data_cf:\n",
    "    target_true.append(x[\"requested_rewrite\"][\"target_true\"][\"id\"])\n",
    "    target_new.append(x[\"requested_rewrite\"][\"target_new\"][\"id\"])\n",
    "    relations_cf.append(x[\"requested_rewrite\"][\"relation_id\"])\n",
    "entities_cf = set(target_true) | set(target_new)\n",
    "relations_cf = set(relations_cf)\n",
    "print(f\"Num of tail entities: {len(target_true)}\")\n",
    "print(f\"Num of new tail entities: {len(target_new)}\")\n",
    "print(f\"Num of unique tail entities: {len(set(target_true))}\")\n",
    "print(f\"Num of unique new tail entities: {len(set(target_new))}\")\n",
    "print(f\"Num of unique relations: {len(relations_cf)}\")"
   ]
  },
  {
   "cell_type": "code",
   "execution_count": 5,
   "metadata": {},
   "outputs": [
    {
     "name": "stdout",
     "output_type": "stream",
     "text": [
      "Total num unique entities: 73309\n",
      "Total num unique relations: 90\n"
     ]
    }
   ],
   "source": [
    "# merge\n",
    "entities = entities_fr | entities_cf\n",
    "entities = sorted(entities, key=lambda s: int(s[1:])) # sort by number after 'Q'\n",
    "relations = relations_fr | relations_cf\n",
    "relations = sorted(relations, key=lambda s: int(s[1:])) # sort by number after 'P'\n",
    "print(f\"Total num unique entities: {len(entities)}\")\n",
    "print(f\"Total num unique relations: {len(relations)}\")"
   ]
  },
  {
   "cell_type": "code",
   "execution_count": null,
   "metadata": {},
   "outputs": [],
   "source": [
    "# retrieve entitiy data\n",
    "result = []\n",
    "for n, entity in tqdm(enumerate(entities), total=len(entities)):\n",
    "    entitiy_data = dict(\n",
    "        id = entity,\n",
    "        label = get_wikidata_entity_label(entity),\n",
    "        description = get_wikidata_entity_description(entity),\n",
    "        aliases = get_wikidata_entity_aliases(entity)\n",
    "    )\n",
    "    result.append(entitiy_data)\n",
    "    if n % 10 == 0:\n",
    "        pd.DataFrame(result).to_json(\"wikidata_entity_data.json\", orient=\"records\", lines=True, mode=\"a\")\n",
    "        result = []\n",
    "pd.DataFrame(result).to_json(\"wikidata_entity_data.json\", orient=\"records\", lines=True, mode=\"a\")"
   ]
  },
  {
   "cell_type": "code",
   "execution_count": null,
   "metadata": {},
   "outputs": [],
   "source": [
    "# retrieve relation data\n",
    "result = []\n",
    "for n, relation in tqdm(enumerate(relations), total=len(relations)):\n",
    "    relation_data = dict(\n",
    "        id = relation,\n",
    "        label = get_wikidata_entity_label(relation),\n",
    "        description = get_wikidata_entity_description(relation),\n",
    "        aliases = get_wikidata_entity_aliases(relation)\n",
    "    )\n",
    "    result.append(relation_data)\n",
    "    if n % 10 == 0:\n",
    "        pd.DataFrame(result).to_json(\"wikidata_relation_data.json\", orient=\"records\", lines=True, mode=\"a\")\n",
    "        result = []\n",
    "pd.DataFrame(result).to_json(\"wikidata_relation_data.json\", orient=\"records\", lines=True, mode=\"a\")"
   ]
  },
  {
   "cell_type": "code",
   "execution_count": 6,
   "metadata": {},
   "outputs": [
    {
     "name": "stdout",
     "output_type": "stream",
     "text": [
      "Num entities: 73309\n",
      "Num unique entities: 73309\n",
      "Missing entities: []\n",
      "No description: 1706\n",
      "No aliases: 35770\n"
     ]
    }
   ],
   "source": [
    "# validate\n",
    "# entities\n",
    "df = pd.read_json(\"wikidata_entity_data.json\", lines=True)\n",
    "\n",
    "print(f\"Num entities: {len(df)}\")\n",
    "print(f\"Num unique entities: {df['id'].nunique()}\")\n",
    "missing_entities = list(set(entities) - set(df[\"id\"].to_list()))\n",
    "print(f\"Missing entities: {missing_entities}\")\n",
    "print(f\"No description: {df['description'].isna().sum()}\")\n",
    "print(f\"No aliases: {df['aliases'].isna().sum()}\")"
   ]
  },
  {
   "cell_type": "code",
   "execution_count": 7,
   "metadata": {},
   "outputs": [
    {
     "name": "stdout",
     "output_type": "stream",
     "text": [
      "Num relations: 90\n",
      "Num unique relations: 90\n",
      "Missing relations: []\n",
      "No description: 0\n",
      "No aliases: 1\n"
     ]
    }
   ],
   "source": [
    "# relations\n",
    "df_relation = pd.read_json(\"wikidata_relation_data.json\", lines=True)\n",
    "\n",
    "print(f\"Num relations: {len(df_relation)}\")\n",
    "print(f\"Num unique relations: {df_relation['id'].nunique()}\")\n",
    "missing_relations = list(set(relations) - set(df_relation[\"id\"].to_list()))\n",
    "print(f\"Missing relations: {missing_relations}\")\n",
    "print(f\"No description: {df_relation['description'].isna().sum()}\")\n",
    "print(f\"No aliases: {df_relation['aliases'].isna().sum()}\")"
   ]
  }
 ],
 "metadata": {
  "kernelspec": {
   "display_name": "venv",
   "language": "python",
   "name": "venv"
  },
  "language_info": {
   "codemirror_mode": {
    "name": "ipython",
    "version": 3
   },
   "file_extension": ".py",
   "mimetype": "text/x-python",
   "name": "python",
   "nbconvert_exporter": "python",
   "pygments_lexer": "ipython3",
   "version": "3.9.7"
  }
 },
 "nbformat": 4,
 "nbformat_minor": 4
}
