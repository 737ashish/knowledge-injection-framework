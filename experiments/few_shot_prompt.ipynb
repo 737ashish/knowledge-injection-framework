{
 "cells": [
  {
   "cell_type": "code",
   "execution_count": null,
   "id": "ef3482cc-f8bd-4747-8f2c-280ab2ab52ac",
   "metadata": {},
   "outputs": [],
   "source": [
    "import pandas as pd\n",
    "import sys\n",
    "\n",
    "sys.path.extend([\"../utils\"])\n",
    "from transformer_utils import load_model"
   ]
  },
  {
   "cell_type": "code",
   "execution_count": null,
   "id": "713cb75a-f123-4cad-a7a8-e7b94f108cb2",
   "metadata": {},
   "outputs": [],
   "source": [
    "dataset = \"fewrel\" #counterfact\n",
    "split = \"dev\"\n",
    "df = pd.read_json(f\"../datasets/{dataset}/{dataset}_{split}.json\", lines=True)"
   ]
  },
  {
   "cell_type": "code",
   "execution_count": null,
   "id": "96f564db-b827-41a0-a1bf-b76f5ca98c3a",
   "metadata": {},
   "outputs": [],
   "source": [
    "def create_sample(row):\n",
    "    if row[\"cf_entity_type\"] == \"t\":\n",
    "        sample = f\"New information: {row['h_retrieved']}, {row['r']}, {row['cf_entity']}\\nThen: {row['cf_full_text']}\"\n",
    "    else:\n",
    "        sample = f\"New information: {row['cf_entity']}, {row['r']}, {row['t_retrieved']}\\nThen: {row['cf_full_text']}\"\n",
    "    return sample\n",
    "\n",
    "def create_few_shot_prompt(df, n_samples):\n",
    "    df_sample = df.sample(n_samples, random_state=42)\n",
    "    prompt = \"\"\n",
    "    for _, row in df_sample.iterrows():\n",
    "        prompt += create_sample(row) + \"\\n\\n\"\n",
    "    prompt += \"New information: {h}, {r}, {t}.\\n{split_token} {prompt}\"\n",
    "    return prompt"
   ]
  },
  {
   "cell_type": "code",
   "execution_count": null,
   "id": "dce7672d-4478-4499-9acb-b37c003aec51",
   "metadata": {},
   "outputs": [],
   "source": [
    "prompt = create_few_shot_prompt(df, 16)"
   ]
  },
  {
   "cell_type": "code",
   "execution_count": null,
   "id": "9eb67bcb-2856-4d60-a8bd-f9df723c583c",
   "metadata": {},
   "outputs": [],
   "source": [
    "tokenizer, model = load_model(\"gpt2-xl\")\n",
    "len(tokenizer(prompt).input_ids)"
   ]
  },
  {
   "cell_type": "code",
   "execution_count": null,
   "id": "5edea332-e7f3-4e40-93c9-d0630552310a",
   "metadata": {},
   "outputs": [],
   "source": [
    "prompt"
   ]
  },
  {
   "cell_type": "code",
   "execution_count": null,
   "id": "6e642877-0200-4248-b16c-d87d17fab512",
   "metadata": {},
   "outputs": [],
   "source": [
    "print(prompt)"
   ]
  }
 ],
 "metadata": {
  "kernelspec": {
   "display_name": "venv",
   "language": "python",
   "name": "python3"
  },
  "language_info": {
   "codemirror_mode": {
    "name": "ipython",
    "version": 3
   },
   "file_extension": ".py",
   "mimetype": "text/x-python",
   "name": "python",
   "nbconvert_exporter": "python",
   "pygments_lexer": "ipython3",
   "version": "3.10.0"
  }
 },
 "nbformat": 4,
 "nbformat_minor": 5
}
